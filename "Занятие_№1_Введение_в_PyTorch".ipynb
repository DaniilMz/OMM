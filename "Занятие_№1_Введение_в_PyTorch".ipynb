{
  "nbformat": 4,
  "nbformat_minor": 0,
  "metadata": {
    "colab": {
      "provenance": [],
      "toc_visible": true,
      "gpuType": "T4",
      "include_colab_link": true
    },
    "kernelspec": {
      "name": "python3",
      "display_name": "Python 3"
    },
    "language_info": {
      "name": "python"
    },
    "accelerator": "GPU"
  },
  "cells": [
    {
      "cell_type": "markdown",
      "metadata": {
        "id": "view-in-github",
        "colab_type": "text"
      },
      "source": [
        "<a href=\"https://colab.research.google.com/github/DaniilMz/OMM/blob/main/%22%D0%97%D0%B0%D0%BD%D1%8F%D1%82%D0%B8%D0%B5_%E2%84%961_%D0%92%D0%B2%D0%B5%D0%B4%D0%B5%D0%BD%D0%B8%D0%B5_%D0%B2_PyTorch%22.ipynb\" target=\"_parent\"><img src=\"https://colab.research.google.com/assets/colab-badge.svg\" alt=\"Open In Colab\"/></a>"
      ]
    },
    {
      "cell_type": "markdown",
      "source": [
        "# Введение в pytorch\n",
        "\n",
        "Официальный сайт: https://pytorch.org/"
      ],
      "metadata": {
        "id": "oi5C-QV60J0Q"
      }
    },
    {
      "cell_type": "markdown",
      "source": [
        "PyTorch - это библиотека машинного обучения с открытым исходным кодом, основанная на библиотеке Torch. Она является популярным выбором для построения моделей глубокого обучения благодаря своей простоте использования и гибкости.\n",
        "\n",
        "PyTorch основан на нескольких ключевых принципах:\n",
        "1. Динамические вычислительные графы:\n",
        "PyTorch использует динамические вычислительные графы для определения и вычисления прямых и обратных проходов через нейронную сеть. Это обеспечивает большую гибкость при проектировании моделей и более быстрому созданию прототипов.\n",
        "2. Синтаксис, подобный Numpy: PyTorch имеет синтаксис, похожий на Numpy,  популярной библиотекой для численных вычислений на Python. Это облегчает переход на PyTorch пользователям, которые уже знакомы с Numpy.\n",
        "3. Ускорение благодаря графическим процессора: PyTorch может использовать преимущества графических процессоров для ускорения вычислений, что необходимо для обучения глубоких нейронных сетей."
      ],
      "metadata": {
        "id": "uWDmDCpe0YvE"
      }
    },
    {
      "cell_type": "markdown",
      "source": [
        "## Операции с тензорами"
      ],
      "metadata": {
        "id": "MYmVEYHkBhS0"
      }
    },
    {
      "cell_type": "markdown",
      "source": [
        "### Инициализация"
      ],
      "metadata": {
        "id": "5gNTEIzoBkuq"
      }
    },
    {
      "cell_type": "markdown",
      "source": [
        "Вы можете инициализировать тензор в PyTorch несколькими способами:\n",
        "\n",
        "Создание тензора на основе данных:"
      ],
      "metadata": {
        "id": "mO3PfnnDBrE4"
      }
    },
    {
      "cell_type": "code",
      "execution_count": null,
      "metadata": {
        "id": "VcPjkWucz94Z",
        "colab": {
          "base_uri": "https://localhost:8080/"
        },
        "outputId": "3a84411d-259e-4a5d-e248-fe3afb0978bf"
      },
      "outputs": [
        {
          "output_type": "execute_result",
          "data": {
            "text/plain": [
              "tensor([[1, 2],\n",
              "        [3, 4]])"
            ]
          },
          "metadata": {},
          "execution_count": 1
        }
      ],
      "source": [
        "import torch\n",
        "\n",
        "data = [[1, 2], [3, 4]]\n",
        "x_data = torch.tensor(data)\n",
        "x_data"
      ]
    },
    {
      "cell_type": "markdown",
      "source": [
        "Создание тензора из NumPy массива:"
      ],
      "metadata": {
        "id": "RMYOMvjzB1Fz"
      }
    },
    {
      "cell_type": "code",
      "source": [
        "import numpy as np\n",
        "\n",
        "np_array = np.array(data)\n",
        "x_np = torch.from_numpy(np_array)\n",
        "x_np"
      ],
      "metadata": {
        "colab": {
          "base_uri": "https://localhost:8080/"
        },
        "id": "VCj_DakPBx1l",
        "outputId": "2b4f8379-fd2b-4c1b-d34b-9a421f524cf1"
      },
      "execution_count": null,
      "outputs": [
        {
          "output_type": "execute_result",
          "data": {
            "text/plain": [
              "tensor([[1, 2],\n",
              "        [3, 4]])"
            ]
          },
          "metadata": {},
          "execution_count": 2
        }
      ]
    },
    {
      "cell_type": "markdown",
      "source": [
        "Создание тензора из другого тензора:"
      ],
      "metadata": {
        "id": "E3Mwc6saB78R"
      }
    },
    {
      "cell_type": "code",
      "source": [
        "# сохраняет свойства x_data\n",
        "x_ones = torch.ones_like(x_data)\n",
        "print(f\"Тензор из единиц: \\n {x_ones} \\n\")\n",
        "\n",
        "# переопределяем тип данных x_data\n",
        "x_rand = torch.rand_like(x_data, dtype=torch.float)\n",
        "print(f\"Тензор из случайных значений: \\n {x_rand} \\n\")"
      ],
      "metadata": {
        "colab": {
          "base_uri": "https://localhost:8080/"
        },
        "id": "gkWSPJwoB49H",
        "outputId": "7d38bf0f-75f4-46cc-bcfe-dba291efdb2d"
      },
      "execution_count": null,
      "outputs": [
        {
          "output_type": "stream",
          "name": "stdout",
          "text": [
            "Тензор из единиц: \n",
            " tensor([[1, 1],\n",
            "        [1, 1]]) \n",
            "\n",
            "Тензор из случайных значений: \n",
            " tensor([[0.7375, 0.8655],\n",
            "        [0.0055, 0.3064]]) \n",
            "\n"
          ]
        }
      ]
    },
    {
      "cell_type": "markdown",
      "source": [
        "Создание тензора со случайными или постоянными значениями:"
      ],
      "metadata": {
        "id": "eEXadfpWCb4g"
      }
    },
    {
      "cell_type": "code",
      "source": [
        "rand_tensor = torch.rand((2,3))\n",
        "ones_tensor = torch.ones((2,3))\n",
        "zeros_tensor = torch.zeros((2,3))\n",
        "\n",
        "print(f\"Тензор из случайных значений: \\n {rand_tensor} \\n\")\n",
        "print(f\"Тензор из единиц: \\n {ones_tensor} \\n\")\n",
        "print(f\"Тензор из нулей: \\n {zeros_tensor}\")"
      ],
      "metadata": {
        "colab": {
          "base_uri": "https://localhost:8080/"
        },
        "id": "VecsKIr3CLzZ",
        "outputId": "e12dfee7-43d3-4603-eaff-83c10752766d"
      },
      "execution_count": null,
      "outputs": [
        {
          "output_type": "stream",
          "name": "stdout",
          "text": [
            "Тензор из случайных значений: \n",
            " tensor([[0.2374, 0.7862, 0.0482],\n",
            "        [0.7255, 0.8340, 0.9669]]) \n",
            "\n",
            "Тензор из единиц: \n",
            " tensor([[1., 1., 1.],\n",
            "        [1., 1., 1.]]) \n",
            "\n",
            "Тензор из нулей: \n",
            " tensor([[0., 0., 0.],\n",
            "        [0., 0., 0.]])\n"
          ]
        }
      ]
    },
    {
      "cell_type": "markdown",
      "source": [
        "### Индексация"
      ],
      "metadata": {
        "id": "41oxHl-YDikj"
      }
    },
    {
      "cell_type": "markdown",
      "source": [
        "Вы можете использовать стандартную индексацию Python для тензоров PyTorch:"
      ],
      "metadata": {
        "id": "01uk7PFcDouH"
      }
    },
    {
      "cell_type": "code",
      "source": [
        "tensor = torch.ones(4, 4)\n",
        "print('Первая строка: ',tensor[0])\n",
        "print('Первая колока: ', tensor[:, 0])\n",
        "print('Последняя колонка:', tensor[..., -1])\n",
        "# перезаписываем 2 колонку нулями\n",
        "tensor[:,1] = 0\n",
        "print(tensor)"
      ],
      "metadata": {
        "colab": {
          "base_uri": "https://localhost:8080/"
        },
        "id": "s9Hkc3lkDfZm",
        "outputId": "46e5a16e-d263-4bfb-b7c8-6cbe704cf759"
      },
      "execution_count": null,
      "outputs": [
        {
          "output_type": "stream",
          "name": "stdout",
          "text": [
            "Первая строка:  tensor([1., 1., 1., 1.])\n",
            "Первая колока:  tensor([1., 1., 1., 1.])\n",
            "Последняя колонка: tensor([1., 1., 1., 1.])\n",
            "tensor([[1., 0., 1., 1.],\n",
            "        [1., 0., 1., 1.],\n",
            "        [1., 0., 1., 1.],\n",
            "        [1., 0., 1., 1.]])\n"
          ]
        }
      ]
    },
    {
      "cell_type": "code",
      "source": [
        "import torch\n",
        "\n",
        "# Создаем тензор\n",
        "x = torch.tensor([[1, 2, 3], [4, 5, 6], [7, 8, 9]])\n",
        "\n",
        "# Инициализируем long тензор индексов\n",
        "indices = torch.tensor([0, 2])\n",
        "\n",
        "# Находим все элементы на индексах, инициализированных в LongTensor\n",
        "rows = x[indices]\n",
        "\n",
        "print(rows)"
      ],
      "metadata": {
        "id": "7aup5uIDFPWL",
        "colab": {
          "base_uri": "https://localhost:8080/"
        },
        "outputId": "091ad252-4280-4c44-b919-e97ac6f55b7c"
      },
      "execution_count": null,
      "outputs": [
        {
          "output_type": "stream",
          "name": "stdout",
          "text": [
            "tensor([[1, 2, 3],\n",
            "        [7, 8, 9]])\n"
          ]
        }
      ]
    },
    {
      "cell_type": "markdown",
      "source": [
        "### Слайсинг"
      ],
      "metadata": {
        "id": "e-Bl0QpYD_yH"
      }
    },
    {
      "cell_type": "markdown",
      "source": [
        "Синтаксис слайсинга в Python аналогичен слайсингу в NumPy:"
      ],
      "metadata": {
        "id": "lor55O9eEEQe"
      }
    },
    {
      "cell_type": "code",
      "source": [
        "tensor = torch.arange(10)\n",
        "print(tensor[1:5]) # Слайс с индекса 1 до 4\n",
        "print(tensor[5:])  # Слайс с индекса 5 до конца\n",
        "print(tensor[:5])  # Слайс с начала до 4 индекса\n",
        "print(tensor[-5:]) # Слайс 5 последних элементов\n",
        "print(tensor[::2]) # Слайс каждого 2 элемента, начиная с 0"
      ],
      "metadata": {
        "colab": {
          "base_uri": "https://localhost:8080/"
        },
        "id": "8-Vh_U3JDxVB",
        "outputId": "ba7324aa-b8d3-4d9c-e409-9405fdc08b5c"
      },
      "execution_count": null,
      "outputs": [
        {
          "output_type": "stream",
          "name": "stdout",
          "text": [
            "tensor([1, 2, 3, 4])\n",
            "tensor([5, 6, 7, 8, 9])\n",
            "tensor([0, 1, 2, 3, 4])\n",
            "tensor([5, 6, 7, 8, 9])\n",
            "tensor([0, 2, 4, 6, 8])\n"
          ]
        }
      ]
    },
    {
      "cell_type": "markdown",
      "source": [
        "### Мат операции"
      ],
      "metadata": {
        "id": "VGY3Qnrdj8DW"
      }
    },
    {
      "cell_type": "code",
      "source": [
        "# инициализируем тензоры из случайных значений\n",
        "y = torch.rand(3, 3)\n",
        "x = torch.rand(3, 3)\n",
        "print(x, '\\n\\n', y)"
      ],
      "metadata": {
        "colab": {
          "base_uri": "https://localhost:8080/"
        },
        "id": "BjT8Cij4jp6n",
        "outputId": "8e22a679-0adc-4a37-e154-60f48126ecd9"
      },
      "execution_count": null,
      "outputs": [
        {
          "output_type": "stream",
          "name": "stdout",
          "text": [
            "tensor([[0.8678, 0.3234, 0.0251],\n",
            "        [0.8001, 0.1338, 0.5501],\n",
            "        [0.1912, 0.2464, 0.8784]]) \n",
            "\n",
            " tensor([[0.1311, 0.0546, 0.2535],\n",
            "        [0.9176, 0.5772, 0.5398],\n",
            "        [0.0261, 0.0792, 0.3275]])\n"
          ]
        }
      ]
    },
    {
      "cell_type": "markdown",
      "source": [
        "У операции (поэлементного) сложения есть несколько вариантов синтаксиса:"
      ],
      "metadata": {
        "id": "TdxgoCW-mZpd"
      }
    },
    {
      "cell_type": "code",
      "source": [
        "print(x + y)"
      ],
      "metadata": {
        "colab": {
          "base_uri": "https://localhost:8080/"
        },
        "id": "eois1lgplPuE",
        "outputId": "11f6e11e-c3c9-4b18-cb10-e98aa503315f"
      },
      "execution_count": null,
      "outputs": [
        {
          "output_type": "stream",
          "name": "stdout",
          "text": [
            "tensor([[0.9990, 0.3780, 0.2787],\n",
            "        [1.7176, 0.7110, 1.0899],\n",
            "        [0.2173, 0.3256, 1.2059]])\n"
          ]
        }
      ]
    },
    {
      "cell_type": "code",
      "source": [
        "print(torch.add(x, y))"
      ],
      "metadata": {
        "colab": {
          "base_uri": "https://localhost:8080/"
        },
        "id": "A8S4YABhlSu2",
        "outputId": "77810335-5e39-478c-8629-04c91b251e1e"
      },
      "execution_count": null,
      "outputs": [
        {
          "output_type": "stream",
          "name": "stdout",
          "text": [
            "tensor([[0.9990, 0.3780, 0.2787],\n",
            "        [1.7176, 0.7110, 1.0899],\n",
            "        [0.2173, 0.3256, 1.2059]])\n"
          ]
        }
      ]
    },
    {
      "cell_type": "code",
      "source": [
        "result = torch.empty(3, 3)\n",
        "torch.add(x, y, out=result)\n",
        "print(result)"
      ],
      "metadata": {
        "colab": {
          "base_uri": "https://localhost:8080/"
        },
        "id": "LDOm-z7vlU0C",
        "outputId": "70d5db5e-08cd-45e5-9173-4be061f1a574"
      },
      "execution_count": null,
      "outputs": [
        {
          "output_type": "stream",
          "name": "stdout",
          "text": [
            "tensor([[0.9990, 0.3780, 0.2787],\n",
            "        [1.7176, 0.7110, 1.0899],\n",
            "        [0.2173, 0.3256, 1.2059]])\n"
          ]
        }
      ]
    },
    {
      "cell_type": "code",
      "source": [
        "# in-plce - результат будет записан в адресное пространство y а не возвращено в 3-ю переменную\n",
        "y.add_(x)\n",
        "print(y)"
      ],
      "metadata": {
        "colab": {
          "base_uri": "https://localhost:8080/"
        },
        "id": "7z4-BP3xlU5N",
        "outputId": "c5894546-d9d9-4359-b2e0-70c7cc2966f6"
      },
      "execution_count": null,
      "outputs": [
        {
          "output_type": "stream",
          "name": "stdout",
          "text": [
            "tensor([[0.9990, 0.3780, 0.2787],\n",
            "        [1.7176, 0.7110, 1.0899],\n",
            "        [0.2173, 0.3256, 1.2059]])\n"
          ]
        }
      ]
    },
    {
      "cell_type": "markdown",
      "source": [
        "По аналогии все прочие операции:"
      ],
      "metadata": {
        "id": "2OzIOMFHosPg"
      }
    },
    {
      "cell_type": "markdown",
      "source": [
        "| Оператор   | Фукцния      | In-place   |\n",
        "|:-----------|:-------------|:-----------|\n",
        "| +          | torch.add    | add_       |\n",
        "| -          | torch.sub    | sub_       |\n",
        "| *          | torch.mul    | mul_       |\n",
        "| /          | torch.div    | div_       |\n",
        "| **         | torch.pow    | pow_       |\n",
        "| @          | torch.matmul | matmul_    |\n",
        "| bmm        | torch.bmm    | N/A        |"
      ],
      "metadata": {
        "id": "eJsKHoq5jtMZ"
      }
    },
    {
      "cell_type": "markdown",
      "source": [
        "Batched matrix multiplication (BMM) - крайне эффективная для задач deep learning операция, особенно на GPU:"
      ],
      "metadata": {
        "id": "m5RwBOS5pEMF"
      }
    },
    {
      "cell_type": "code",
      "source": [
        "import torch\n",
        "\n",
        "# инцииализируем тензоры\n",
        "tensor1 = torch.randn(10, 3, 4)\n",
        "tensor2 = torch.randn(10, 4, 5)\n",
        "\n",
        "# Умножим 10 матриц формы 3*4 на 10 матриц формы 4*5\n",
        "result = torch.bmm(tensor1, tensor2)\n",
        "\n",
        "print(result.size())"
      ],
      "metadata": {
        "colab": {
          "base_uri": "https://localhost:8080/"
        },
        "id": "V1MM9HsNlKpE",
        "outputId": "5f05195d-3a48-4b9f-a9cc-c0cde8021667"
      },
      "execution_count": null,
      "outputs": [
        {
          "output_type": "stream",
          "name": "stdout",
          "text": [
            "torch.Size([10, 3, 5])\n"
          ]
        }
      ]
    },
    {
      "cell_type": "markdown",
      "source": [
        "### Описательные статистики"
      ],
      "metadata": {
        "id": "orqQeEyOprW1"
      }
    },
    {
      "cell_type": "code",
      "source": [
        "import torch\n",
        "\n",
        "# Создаем тензор со случайными значениями\n",
        "x = torch.randn(5, 5)\n",
        "\n",
        "print(f\"Тензор:\\n{x}\\n\")"
      ],
      "metadata": {
        "colab": {
          "base_uri": "https://localhost:8080/"
        },
        "id": "UJX_iYDbpCw6",
        "outputId": "40e3175d-fba1-4363-97bf-2fc7bcfc54d2"
      },
      "execution_count": null,
      "outputs": [
        {
          "output_type": "stream",
          "name": "stdout",
          "text": [
            "Тензор:\n",
            "tensor([[-0.0863,  0.8525,  0.2837, -0.4523, -2.5146],\n",
            "        [ 1.0732,  0.3319,  1.3527,  0.7195,  0.7826],\n",
            "        [ 0.1659, -1.7799,  1.7335,  0.9565, -1.5519],\n",
            "        [-0.6721, -1.1855, -1.0722,  0.5325,  1.1093],\n",
            "        [-1.3307,  1.0574,  2.0292,  2.1594, -1.9988]])\n",
            "\n"
          ]
        }
      ]
    },
    {
      "cell_type": "code",
      "source": [
        "# Вычисляем среднее значение всех элементов в тензоре\n",
        "mean_all = torch.mean(x)\n",
        "print(f\"Среднее значение (все элементы): {mean_all}\")"
      ],
      "metadata": {
        "colab": {
          "base_uri": "https://localhost:8080/"
        },
        "id": "OOSAnWsHqwmq",
        "outputId": "aa75061a-3ded-423c-fc57-4cab3d452195"
      },
      "execution_count": null,
      "outputs": [
        {
          "output_type": "stream",
          "name": "stdout",
          "text": [
            "Среднее значение (все элементы): 0.005977602209895849\n"
          ]
        }
      ]
    },
    {
      "cell_type": "code",
      "source": [
        "# Вычисляем среднее значение вдоль первой оси (строки)\n",
        "mean_dim0 = torch.mean(x, dim=0)\n",
        "print(f\"Среднее значение (ось=0):\\n{mean_dim0}\")"
      ],
      "metadata": {
        "colab": {
          "base_uri": "https://localhost:8080/"
        },
        "id": "zftrA20eqyZR",
        "outputId": "9edd89d1-3633-4f3c-f993-f13a25e3588e"
      },
      "execution_count": null,
      "outputs": [
        {
          "output_type": "stream",
          "name": "stdout",
          "text": [
            "Среднее значение (ось=0):\n",
            "tensor([ 0.1071, -0.4670, -0.0511,  0.5814, -0.1404])\n"
          ]
        }
      ]
    },
    {
      "cell_type": "code",
      "source": [
        "# Вычисляем среднее значение вдоль второй оси (столбцы)\n",
        "mean_dim1 = torch.mean(x, dim=1)\n",
        "print(f\"Среднее значение (ось=1):\\n{mean_dim1}\\n\")"
      ],
      "metadata": {
        "colab": {
          "base_uri": "https://localhost:8080/"
        },
        "id": "KqM8sIIwq0MJ",
        "outputId": "e0f9f862-2baa-441a-cde0-6332616d95f3"
      },
      "execution_count": null,
      "outputs": [
        {
          "output_type": "stream",
          "name": "stdout",
          "text": [
            "Среднее значение (ось=1):\n",
            "tensor([-0.1163,  0.1603,  0.1109,  0.0520, -0.1771])\n",
            "\n"
          ]
        }
      ]
    },
    {
      "cell_type": "code",
      "source": [
        "# Вычисляем сумму всех элементов в тензоре\n",
        "sum_all = torch.sum(x)\n",
        "print(f\"Сумма (все элементы): {sum_all}\")"
      ],
      "metadata": {
        "colab": {
          "base_uri": "https://localhost:8080/"
        },
        "id": "B7Tv35J0q2kK",
        "outputId": "20b893a8-27af-424f-b0ed-62c12f806304"
      },
      "execution_count": null,
      "outputs": [
        {
          "output_type": "stream",
          "name": "stdout",
          "text": [
            "Сумма (все элементы): 0.14944005012512207\n"
          ]
        }
      ]
    },
    {
      "cell_type": "code",
      "source": [
        "# Вычисляем минимум всех элементов в тензоре\n",
        "min_all = torch.amin(x)\n",
        "print(f\"Минимум (все элементы): {min_all}\")"
      ],
      "metadata": {
        "colab": {
          "base_uri": "https://localhost:8080/"
        },
        "id": "UrdEdx4Uq75L",
        "outputId": "941885b7-30bf-4022-dd5c-b36400bc90b7"
      },
      "execution_count": null,
      "outputs": [
        {
          "output_type": "stream",
          "name": "stdout",
          "text": [
            "Минимум (все элементы): -1.4534938335418701\n"
          ]
        }
      ]
    },
    {
      "cell_type": "code",
      "source": [
        "# Вычисляем максимум всех элементов в тензоре\n",
        "max_all = torch.amax(x)\n",
        "print(f\"Максимум (все элементы): {max_all}\")"
      ],
      "metadata": {
        "colab": {
          "base_uri": "https://localhost:8080/"
        },
        "id": "rf4JFGjmq-9L",
        "outputId": "3ae9f05c-624f-44fe-b016-8f93a8ac7a9d"
      },
      "execution_count": null,
      "outputs": [
        {
          "output_type": "stream",
          "name": "stdout",
          "text": [
            "Максимум (все элементы): 2.081057071685791\n"
          ]
        }
      ]
    },
    {
      "cell_type": "markdown",
      "source": [
        "По аналогии работают и прочие методы:"
      ],
      "metadata": {
        "id": "b0HdyFBToAFk"
      }
    },
    {
      "cell_type": "markdown",
      "source": [
        "| Функция                  | Описание                                                                                                   |\n",
        "|:-------------------------|:-----------------------------------------------------------------------------------------------------------|\n",
        "| torch.mean               | Вычисляет среднее значение всех элементов в тензоре                                                        |\n",
        "| torch.var                | Вычисляет дисперсию всех элементов в тензоре                                                               |\n",
        "| torch.std                | Вычисляет стандартное отклонение всех элементов в тензоре                                                  |\n",
        "| torch.median             | Вычисляет медианное значение всех элементов в тензоре                                                      |\n",
        "| torch.mode               | Вычисляет моду всех элементов в тензоре                                                                    |\n",
        "| torch.prod               | Вычисляет произведение всех элементов в тензоре                                                            |\n",
        "| torch.sum                | Вычисляет сумму всех элементов в тензоре                                                                   |\n",
        "| torch.cumprod            | Вычисляет кумулятивную произведение всех элементов в тензоре                                                |\n",
        "| torch.cumsum             | Вычисляет кумулятивную сумму всех элементов в тензоре                                                       |\n",
        "| torch.norm               | Вычисляет норму всех элементов в тензоре                                                                   |\n",
        "| torch.dist               | Вычисляет p-норму (вход - другой)                                                                          |\n",
        "| torch.kthvalue           | Вычисляет k-е наименьшее значение всех элементов в тензоре                                                 |\n",
        "| torch.topk               | Находит k-е наибольшее значение всех элементов в тензоре                                                   |\n",
        "| torch.count_nonzero      | Считает количество ненулевых значений в тензоре                                                            |\n",
        "| torch.unique             | Возвращает уникальные элементы тензора                                                                     |\n",
        "| torch.unique_consecutive | Устраняет все, кроме первого элемента из каждой последовательной группы эквивалентных элементов            |\n",
        "| torch.histc              | Вычисляет гистограмму тензора                                                                              |\n",
        "| torch.bincount           | Считает частоту каждого значения в массиве неотрицательных целых чисел                                     |\n",
        "| torch.bucketize          | Возвращает индексы бакетов во входных данных, которым принадлежат входные данные                       |\n",
        "| torch.quantile           | Вычисляет q-й квантиль элементов тензора входных данных вдоль указанного измерения                         |\n",
        "| torch.nanquantile        | Вычисляет q-й квантиль элементов тензора входных данных вдоль указанного измерения, игнорируя значения nan |\n",
        "| torch.amin               | Возвращает минимальное значение всех элементов в тензоре                                                   |\n",
        "| torch.amax               | Возвращает максимальное значение всех элементов в тензоре                                                  |\n",
        "| torch.clamp              | Обрезает все элементы во входных данных в диапазоне [min, max] и возвращает результирующий тензор          |\n",
        "| torch.clip               | Псевдоним для torch.clamp                                                                                  |"
      ],
      "metadata": {
        "id": "tFCOhXBzkvqA"
      }
    },
    {
      "cell_type": "markdown",
      "source": [
        "### Cuda"
      ],
      "metadata": {
        "id": "z5STEZ2Er09f"
      }
    },
    {
      "cell_type": "code",
      "source": [
        "device = 'cuda' if torch.cuda.is_available() else 'cpu'"
      ],
      "metadata": {
        "id": "GwFflTADuO_q"
      },
      "execution_count": null,
      "outputs": []
    },
    {
      "cell_type": "markdown",
      "source": [
        "В PyTorch вы можете использовать различные функции для взаимодействия с CUDA и управления устройствами CUDA. Вот некоторые из наиболее часто используемых функций:\n",
        "\n",
        "Проверить, доступен ли CUDA:"
      ],
      "metadata": {
        "id": "t9WBu-6utFfq"
      }
    },
    {
      "cell_type": "code",
      "source": [
        "print(torch.cuda.is_available())"
      ],
      "metadata": {
        "colab": {
          "base_uri": "https://localhost:8080/"
        },
        "id": "ukIXjHDisfhh",
        "outputId": "d71cffab-c908-43f7-fa4f-8070ceee10d1"
      },
      "execution_count": null,
      "outputs": [
        {
          "output_type": "stream",
          "name": "stdout",
          "text": [
            "True\n"
          ]
        }
      ]
    },
    {
      "cell_type": "markdown",
      "source": [
        "Получить количество устройств CUDA:"
      ],
      "metadata": {
        "id": "_h91eTOUtiu0"
      }
    },
    {
      "cell_type": "code",
      "source": [
        "print(torch.cuda.device_count())"
      ],
      "metadata": {
        "colab": {
          "base_uri": "https://localhost:8080/"
        },
        "id": "9VvJwo-Gt-pH",
        "outputId": "0da19742-06aa-4b15-c00c-b846c17c44da"
      },
      "execution_count": null,
      "outputs": [
        {
          "output_type": "stream",
          "name": "stdout",
          "text": [
            "1\n"
          ]
        }
      ]
    },
    {
      "cell_type": "markdown",
      "source": [
        "Установить текущее устройство CUDA:"
      ],
      "metadata": {
        "id": "1q3vKi_QuFKO"
      }
    },
    {
      "cell_type": "code",
      "source": [
        "torch.cuda.set_device(0)"
      ],
      "metadata": {
        "id": "BDXWW9iduEYR"
      },
      "execution_count": null,
      "outputs": []
    },
    {
      "cell_type": "markdown",
      "source": [
        "Проверить, находится ли тензор на устройстве CUDA:"
      ],
      "metadata": {
        "id": "YMd2_68MuHsX"
      }
    },
    {
      "cell_type": "code",
      "source": [
        "x = torch.tensor([1, 2, 3])\n",
        "x = x.to(device)  # Переместить тензор на устройство CUDA\n",
        "print(x.is_cuda)"
      ],
      "metadata": {
        "colab": {
          "base_uri": "https://localhost:8080/"
        },
        "id": "Fcg9-Bh-uInf",
        "outputId": "cdcb6c66-56b7-4b64-d829-da7f043b0c6d"
      },
      "execution_count": null,
      "outputs": [
        {
          "output_type": "stream",
          "name": "stdout",
          "text": [
            "True\n"
          ]
        }
      ]
    },
    {
      "cell_type": "code",
      "source": [
        "x.cpu()"
      ],
      "metadata": {
        "colab": {
          "base_uri": "https://localhost:8080/"
        },
        "id": "u9autPFxO0jS",
        "outputId": "acf889d7-58a8-4f76-bdde-6a6fdc918576"
      },
      "execution_count": null,
      "outputs": [
        {
          "output_type": "execute_result",
          "data": {
            "text/plain": [
              "tensor([1, 2, 3])"
            ]
          },
          "metadata": {},
          "execution_count": 21
        }
      ]
    },
    {
      "cell_type": "markdown",
      "source": [
        "Получить имя устройства CUDA:"
      ],
      "metadata": {
        "id": "j6suKgVJt_NN"
      }
    },
    {
      "cell_type": "code",
      "source": [
        "device = torch.device(\"cuda:0\")\n",
        "print(torch.cuda.get_device_name(device))"
      ],
      "metadata": {
        "colab": {
          "base_uri": "https://localhost:8080/"
        },
        "id": "Ek55EdeOuB42",
        "outputId": "b9f3700d-2aa7-4592-c7c3-91ddd019a77f"
      },
      "execution_count": null,
      "outputs": [
        {
          "output_type": "stream",
          "name": "stdout",
          "text": [
            "Tesla T4\n"
          ]
        }
      ]
    },
    {
      "cell_type": "markdown",
      "source": [
        "Теперь давайте продемонстрируем преимущества использования PyTorch с поддержкой CUDA на примере умножения матриц. Мы будем использовать магическую функцию %%timeit для измерения времени выполнения:"
      ],
      "metadata": {
        "id": "340o-9fZuXF1"
      }
    },
    {
      "cell_type": "code",
      "source": [
        "%%timeit\n",
        "# Создаем два больших тензора\n",
        "x = torch.rand(10000, 10000)\n",
        "y = torch.rand(10000, 10000)\n",
        "\n",
        "# Перемещаем тензоры на GPU\n",
        "x = x.to(device)\n",
        "y = y.to(device)\n",
        "\n",
        "# Измеряем время умножения матриц на GPU\n",
        "torch.matmul(x, y)"
      ],
      "metadata": {
        "colab": {
          "base_uri": "https://localhost:8080/"
        },
        "id": "ZZM9mI1Lr2Sn",
        "outputId": "294822d4-e8d6-4c00-cb3c-eec0313d9155"
      },
      "execution_count": null,
      "outputs": [
        {
          "output_type": "stream",
          "name": "stdout",
          "text": [
            "1.84 s ± 314 ms per loop (mean ± std. dev. of 7 runs, 1 loop each)\n"
          ]
        }
      ]
    },
    {
      "cell_type": "markdown",
      "source": [
        "## Autograd"
      ],
      "metadata": {
        "id": "yx_QQ8opqnfm"
      }
    },
    {
      "cell_type": "markdown",
      "source": [
        "\n",
        "Autograd - это система автоматического дифференцирования, встроенная в PyTorch. Это ключевой компонент для создания и обучения нейронных сетей, поскольку он автоматизирует вычисление обратных проходов в нейронных сетях. Когда тензоры используются с requires_grad=True, они начинают отслеживать все операции над ними. Когда вычисление завершено, вы можете вызвать .backward(), и все градиенты вычисляются автоматически.\n",
        "\n",
        "В ранних версиях PyTorch Autograd был отдельным модулем, но теперь он интегрирован в сам объект Tensor. Это означает, что каждый Tensor теперь имеет встроенную поддержку автоматического дифференцирования.\n"
      ],
      "metadata": {
        "id": "1OxtUBfjqpbj"
      }
    },
    {
      "cell_type": "markdown",
      "source": [
        "Материал для дополнительного погружения в тему:\n",
        "\n",
        "https://blog.paperspace.com/pytorch-101-understanding-graphs-and-automatic-differentiation/"
      ],
      "metadata": {
        "id": "8RFHYGzqyBeG"
      }
    },
    {
      "cell_type": "markdown",
      "source": [
        "### Прямой проход"
      ],
      "metadata": {
        "id": "NWxmdWaU3P05"
      }
    },
    {
      "cell_type": "markdown",
      "source": [
        "Выход линейного слоя перед активацией задается формулой:\n",
        "\n",
        "$$ z = w*x + b $$\n",
        "\n",
        "где\n",
        "$w$ - это вес, $x$ - это вход, а $b$ - это смещение.\n",
        "\n",
        "Выход функции активации ReLU задается формулой:\n",
        "\n",
        "$$ a = max(0, z) $$\n",
        "\n",
        "Бинарная кросс-энтропийная потеря (loss) задается формулой:\n",
        "\n",
        "$$ L = -y*log(a) - (1-y)*log(1-a) $$\n",
        "\n",
        "где $y$ - это разметка."
      ],
      "metadata": {
        "id": "-v24tkwi3VYM"
      }
    },
    {
      "cell_type": "markdown",
      "source": [
        "### Логика обратного прохода"
      ],
      "metadata": {
        "id": "4s7Eb_173XBM"
      }
    },
    {
      "cell_type": "markdown",
      "source": [
        "![image.png](data:image/png;base64,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)"
      ],
      "metadata": {
        "id": "p5v8XiOp3ZnP"
      }
    },
    {
      "cell_type": "markdown",
      "source": [
        "### Вывод обратного прохода"
      ],
      "metadata": {
        "id": "obyLiTNF3bUi"
      }
    },
    {
      "cell_type": "markdown",
      "source": [
        "Градиенты потери по отношению к входам, весам и смещению задаются цепным правилом дифференцирования:\n",
        "\n",
        "$$\\frac{dL}{dx} = \\frac{dL}{da} * \\frac{da}{dz} * \\frac{dz}{dx}$$\n",
        "\n",
        "$$\\frac{dL}{dw} = \\frac{dL}{da} * \\frac{da}{dz} * \\frac{dz}{dw}$$\n",
        "\n",
        "$$\\frac{dL}{db} = \\frac{dL}{da} * \\frac{da}{dz} * \\frac{dz}{db}$$"
      ],
      "metadata": {
        "id": "mDh1gXcz3c5z"
      }
    },
    {
      "cell_type": "markdown",
      "source": [
        "Производная бинарной кросс-энтропийной потери:"
      ],
      "metadata": {
        "id": "9LVPAZ4H3eaX"
      }
    },
    {
      "cell_type": "markdown",
      "source": [
        "$$\\frac{dL}{da} = -\\frac{y}{a} + \\frac{1-y}{1-a}\n",
        "$$\n",
        "\n",
        "[Вывод формулы](https://youtu.be/Lakz2MoHy6o?t=1674)"
      ],
      "metadata": {
        "id": "XV_1oeGy3gRG"
      }
    },
    {
      "cell_type": "markdown",
      "source": [
        "Подставив формулы для промежуточных преобразований получим\n",
        "\n",
        "$$\\frac{dL}{dx} = (-\\frac{y}{a} + \\frac{1-y}{1-a}) * 1 * w = -\\frac{y*w}{a} + \\frac{w*(1-y)}{1-a}\n",
        "$$\n",
        "\n",
        "$$\\frac{dL}{dw} = (-\\frac{y}{a} + \\frac{1-y}{1-a}) * 1 * x = -\\frac{x*y}{a} + \\frac{x*(1-y)}{1-a}\n",
        "$$\n",
        "\n",
        "$$\\frac{dL}{db} = (-\\frac{y}{a} + \\frac{1-y}{1-a}) * 1 * 1 = -\\frac{y}{a} + \\frac{1-y}{1-a}\n",
        "$$"
      ],
      "metadata": {
        "id": "qayFaoyM30gL"
      }
    },
    {
      "cell_type": "markdown",
      "source": [
        "Подставим значения входа, веса, смещения и ответа в эти формулы. Вход $x = 0.5$, вес $w = 1$, смещение $b = 1$, а цель $y = 1$. Выход линейного слоя перед активацией $z = 1.5$, а выход функции активации ReLU $a = 1.5$."
      ],
      "metadata": {
        "id": "EI8vjIhR32ZH"
      }
    },
    {
      "cell_type": "markdown",
      "source": [
        "$$\\frac{dL}{dx} = -\\frac{1*1}{1.5} + \\frac{1*(1-1)}{1-1.5} = -\\frac{2}{3}$$\n",
        "\n",
        "$$\\frac{dL}{dw} = -\\frac{0.5*1}{1.5} + \\frac{0.5*(1-1)}{1-1.5} = -\\frac{1}{3}$$\n",
        "\n",
        "$$\\frac{dL}{db} = -\\frac{1}{1.5} + \\frac{1-1}{1-1.5} = -\\frac{2}{3}$$"
      ],
      "metadata": {
        "id": "XNqPU2qn34TN"
      }
    },
    {
      "cell_type": "code",
      "source": [
        "# Инициализируем константами\n",
        "x = torch.tensor([0.5], requires_grad=True)\n",
        "w = torch.tensor([1.0], requires_grad=True)\n",
        "b = torch.tensor([1.0], requires_grad=True)\n",
        "y = torch.tensor([1.0])\n",
        "\n",
        "# Прямой проход\n",
        "z = w * x + b\n",
        "a = torch.relu(z)\n",
        "# Потери (самописные, чтобы не усложнять S-m)\n",
        "loss = -(y * torch.log(a) + (1 - y) * torch.log(1 - a))\n",
        "\n",
        "# Обратный проход\n",
        "loss.backward()\n",
        "\n",
        "# Оптимизатор\n",
        "optimizer = torch.optim.SGD([w, b], lr=1)\n",
        "\n",
        "# Один шаг\n",
        "optimizer.step()\n",
        "\n",
        "# Print the gradients\n",
        "print(\"Gradient of x: \", x.grad.item())\n",
        "print(\"Gradient of w: \", w.grad.item())\n",
        "print(\"Gradient of b: \", b.grad.item())"
      ],
      "metadata": {
        "colab": {
          "base_uri": "https://localhost:8080/"
        },
        "id": "9f7cFQSWktb7",
        "outputId": "3dc96481-54f6-4f34-d0e5-ccb09ebce466"
      },
      "execution_count": null,
      "outputs": [
        {
          "output_type": "stream",
          "name": "stdout",
          "text": [
            "Gradient of x:  -0.6666666865348816\n",
            "Gradient of w:  -0.3333333432674408\n",
            "Gradient of b:  -0.6666666865348816\n"
          ]
        }
      ]
    },
    {
      "cell_type": "code",
      "source": [
        "w"
      ],
      "metadata": {
        "colab": {
          "base_uri": "https://localhost:8080/"
        },
        "id": "rN83PE83Uu0R",
        "outputId": "4c9a8cbf-70d1-47da-95ec-115bb04a85b7"
      },
      "execution_count": null,
      "outputs": [
        {
          "output_type": "execute_result",
          "data": {
            "text/plain": [
              "tensor([1.3333], requires_grad=True)"
            ]
          },
          "metadata": {},
          "execution_count": 36
        }
      ]
    },
    {
      "cell_type": "code",
      "source": [
        "b"
      ],
      "metadata": {
        "colab": {
          "base_uri": "https://localhost:8080/"
        },
        "id": "gHovVg2gUu_V",
        "outputId": "cc770620-7618-440e-d206-bfbac27902dc"
      },
      "execution_count": null,
      "outputs": [
        {
          "output_type": "execute_result",
          "data": {
            "text/plain": [
              "tensor([1.6667], requires_grad=True)"
            ]
          },
          "metadata": {},
          "execution_count": 37
        }
      ]
    },
    {
      "cell_type": "code",
      "source": [
        "## ПСЕВДОКОД\n",
        "loss = CE()\n",
        "\n",
        "for batch in dataloader:\n",
        "    x, y = batch\n",
        "\n",
        "    preds = model(x)\n",
        "    l = loss(preds, y)\n",
        "    l.backward()\n",
        "    l.item()\n",
        "\n",
        "    wandb.log('loss/train', step_num, l.item())\n",
        "\n",
        "    optimizer.step()\n",
        "    optimizer.zero_grad()"
      ],
      "metadata": {
        "id": "_3Ak9db1VBpA"
      },
      "execution_count": null,
      "outputs": []
    }
  ]
}